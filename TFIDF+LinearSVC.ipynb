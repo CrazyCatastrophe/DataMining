{
  "cells": [
    {
      "cell_type": "code",
      "execution_count": null,
      "metadata": {
        "colab": {
          "base_uri": "https://localhost:8080/"
        },
        "id": "6eaT0dNtXp0B",
        "outputId": "038988ae-c036-4db6-d3f9-cd3081726bd9"
      },
      "outputs": [
        {
          "output_type": "stream",
          "name": "stdout",
          "text": [
            "Mounted at /content/drive\n"
          ]
        }
      ],
      "source": [
        "from google.colab import drive\n",
        "drive.mount('/content/drive')"
      ]
    },
    {
      "cell_type": "code",
      "execution_count": null,
      "metadata": {
        "id": "2zC8WZ-V7XsT"
      },
      "outputs": [],
      "source": [
        "import numpy as np\n",
        "import pandas as pd\n",
        "from sklearn.model_selection import KFold\n",
        "from sklearn.feature_extraction.text import TfidfVectorizer\n",
        "from sklearn.svm import LinearSVC\n",
        "from sklearn.metrics import f1_score,accuracy_score,precision_score,recall_score,confusion_matrix,classification_report"
      ]
    },
    {
      "cell_type": "code",
      "execution_count": null,
      "metadata": {
        "id": "nn5J6KCD7Xsi"
      },
      "outputs": [],
      "source": [
        "train_df = pd.read_csv('/content/drive/MyDrive/news classification/train_set.csv', sep='\\t')\n",
        "test_df = pd.read_csv('/content/drive/MyDrive/news classification/test_a.csv', sep='\\t')"
      ]
    },
    {
      "cell_type": "code",
      "execution_count": null,
      "metadata": {
        "id": "zyqVGTB27Xsl"
      },
      "outputs": [],
      "source": [
        "\n",
        "tfidf = TfidfVectorizer(\n",
        "    sublinear_tf=True,\n",
        "    strip_accents='unicode',\n",
        "    analyzer='word',\n",
        "    token_pattern=r'\\w{1,}',\n",
        "    stop_words='english',\n",
        "    ngram_range=(1,3),\n",
        "    max_features=10000)\n",
        "\n",
        "tfidf.fit(pd.concat([train_df['text'], test_df['text']))\n",
        "train_word_features = tfidf.transform(train_df['text'])\n",
        "test_word_features = tfidf.transform(test_df['text'])"
      ]
    },
    {
      "cell_type": "code",
      "execution_count": null,
      "metadata": {
        "id": "3RIJdckQ7Xsq"
      },
      "outputs": [],
      "source": [
        "train_word_features = tfidf.transform(train_df['text'])\n",
        "test_word_features = tfidf.transform(test_df['text'])\n",
        "X_train = train_word_features\n",
        "y_train = train_df['label']\n",
        "X_test = test_word_features"
      ]
    },
    {
      "cell_type": "code",
      "execution_count": null,
      "metadata": {
        "id": "oa88UO397Xss",
        "colab": {
          "base_uri": "https://localhost:8080/"
        },
        "outputId": "7b4e3dbe-e9a4-447c-92d3-d2a60b119f8a"
      },
      "outputs": [
        {
          "output_type": "stream",
          "name": "stdout",
          "text": [
            "第 1 折交叉验证开始...\n",
            "第1次accuracy_score为： 0.9476\n",
            "混淆矩阵输出:\n",
            " [[7401  102   11   45   68   93   20   15   24   59    3    2    0    0]\n",
            " [ 100 7088    2    7   81    6    1  125    5    1    4    0    1    0]\n",
            " [   8    4 6213   19    2   11    3    0    4    0    1    4    2    0]\n",
            " [  40    7   22 4318   25   33    5    1   13    5    1   12    0    0]\n",
            " [  51   51   14   17 2785   48   19    8    3    1    1    6    1    1]\n",
            " [  62    4   10   33   76 2214   33    6    5    0    6    0    7    0]\n",
            " [  18    5    6    4   29   43 1843    4    7    2    1    1    0    1]\n",
            " [  22  161    0    5   10    7    3 1476    6    0    2    1    1    0]\n",
            " [  31   12    3   19    1    6    3    3 1476    1    0    8    0    1]\n",
            " [  79    1    1    6    2    7    1    0    1 1046    0    0    0    0]\n",
            " [   2    5    0    3    3    5    0    1    5    0  958    2    0    0]\n",
            " [   8    1    0   16    5    3    0    0   11    0    0  589    0    3]\n",
            " [   0    0   18    0    0    8    0    0    0    0    0    0  325    0]\n",
            " [   0    0    1    2    0    2    3    0    1    0    0    3    0  172]]\n",
            "分类报告:\n",
            "               precision    recall  f1-score   support\n",
            "\n",
            "           0       0.95      0.94      0.94      7843\n",
            "           1       0.95      0.96      0.95      7421\n",
            "           2       0.99      0.99      0.99      6271\n",
            "           3       0.96      0.96      0.96      4482\n",
            "           4       0.90      0.93      0.91      3006\n",
            "           5       0.89      0.90      0.90      2456\n",
            "           6       0.95      0.94      0.95      1964\n",
            "           7       0.90      0.87      0.89      1694\n",
            "           8       0.95      0.94      0.94      1564\n",
            "           9       0.94      0.91      0.93      1144\n",
            "          10       0.98      0.97      0.98       984\n",
            "          11       0.94      0.93      0.93       636\n",
            "          12       0.96      0.93      0.94       351\n",
            "          13       0.97      0.93      0.95       184\n",
            "\n",
            "    accuracy                           0.95     40000\n",
            "   macro avg       0.94      0.94      0.94     40000\n",
            "weighted avg       0.95      0.95      0.95     40000\n",
            "\n",
            "第 2 折交叉验证开始...\n",
            "第2次accuracy_score为： 0.94795\n",
            "混淆矩阵输出:\n",
            " [[7468  104    7   42   70   79   21   23   22   47    0    1    3    1]\n",
            " [  89 7125    4    5   66    8    3  135    9    0    2    1    0    0]\n",
            " [   8    3 6261   32   10    9    5    0    1    2    0    2    3    0]\n",
            " [  37    6   25 4131   18   29    5    4    7    2    0   10    0    0]\n",
            " [  55   55    8   13 2742   51   18    8    2    2    2    4    2    0]\n",
            " [  60    7    7   30   70 2165   38   10    4    1    1    2   19    0]\n",
            " [   9    4    3   11   23   30 1874    3    9    0    0    3    0    0]\n",
            " [  26  156    0   12   14   17    0 1576    6    1    1    0    0    0]\n",
            " [  28    7    3   20    8   15    4    3 1442    1    2    5    0    0]\n",
            " [  84    6    0    7    2    0    0    1    1 1089    0    1    0    1]\n",
            " [   1    5    1    1    4    7    0    5    6    0  993    1    0    0]\n",
            " [   4    0    2   19    2    2    4    0   16    5    0  549    0    0]\n",
            " [   1    0   15    0    1    8    0    0    0    0    0    1  334    0]\n",
            " [   2    0    0    0    0    1    4    0    1    0    0    7    0  169]]\n",
            "分类报告:\n",
            "               precision    recall  f1-score   support\n",
            "\n",
            "           0       0.95      0.95      0.95      7888\n",
            "           1       0.95      0.96      0.95      7447\n",
            "           2       0.99      0.99      0.99      6336\n",
            "           3       0.96      0.97      0.96      4274\n",
            "           4       0.90      0.93      0.92      2962\n",
            "           5       0.89      0.90      0.90      2414\n",
            "           6       0.95      0.95      0.95      1969\n",
            "           7       0.89      0.87      0.88      1809\n",
            "           8       0.94      0.94      0.94      1538\n",
            "           9       0.95      0.91      0.93      1192\n",
            "          10       0.99      0.97      0.98      1024\n",
            "          11       0.94      0.91      0.92       603\n",
            "          12       0.93      0.93      0.93       360\n",
            "          13       0.99      0.92      0.95       184\n",
            "\n",
            "    accuracy                           0.95     40000\n",
            "   macro avg       0.94      0.93      0.94     40000\n",
            "weighted avg       0.95      0.95      0.95     40000\n",
            "\n",
            "第 3 折交叉验证开始...\n",
            "第3次accuracy_score为： 0.945625\n",
            "混淆矩阵输出:\n",
            " [[7423  108    6   42   87   92   18   17   17   52    1    5    1    0]\n",
            " [ 109 7030    0    7   60    2    2  142    5    0    3    0    0    0]\n",
            " [   7    0 6060   27   14    8    0    0    2    1    1    5    2    0]\n",
            " [  31    7   20 4283   29   28    1    1    2    3    0    4    0    3]\n",
            " [  59   69   12   20 2760   59   29    6    1    0    1    6    0    1]\n",
            " [  84    6    6   25   70 2240   27    8    5    1    2    1    3    0]\n",
            " [  23    3    1   14   23   46 1954    2   15    2    0    2    0    2]\n",
            " [  31  159    0    9   14   20    2 1562    0    0    2    0    1    2]\n",
            " [  38   10   10   18    5    6    3    1 1470    1    1   11    0    0]\n",
            " [  80    2    7    5    2    4    0    0    1 1053    1    2    1    0]\n",
            " [   1    8    0    1    2    6    0    0    3    0  926    0    0    0]\n",
            " [   7    0    1   21    3    6    3    0   12    1    0  560    0    2]\n",
            " [   3    1   17    2    1    7    0    0    0    0    0    0  335    0]\n",
            " [   0    1    0    2    2    1    2    1    1    0    0    2    0  169]]\n",
            "分类报告:\n",
            "               precision    recall  f1-score   support\n",
            "\n",
            "           0       0.94      0.94      0.94      7869\n",
            "           1       0.95      0.96      0.95      7360\n",
            "           2       0.99      0.99      0.99      6127\n",
            "           3       0.96      0.97      0.96      4412\n",
            "           4       0.90      0.91      0.91      3023\n",
            "           5       0.89      0.90      0.90      2478\n",
            "           6       0.96      0.94      0.95      2087\n",
            "           7       0.90      0.87      0.88      1802\n",
            "           8       0.96      0.93      0.95      1574\n",
            "           9       0.95      0.91      0.93      1158\n",
            "          10       0.99      0.98      0.98       947\n",
            "          11       0.94      0.91      0.92       616\n",
            "          12       0.98      0.92      0.94       366\n",
            "          13       0.94      0.93      0.94       181\n",
            "\n",
            "    accuracy                           0.95     40000\n",
            "   macro avg       0.94      0.93      0.94     40000\n",
            "weighted avg       0.95      0.95      0.95     40000\n",
            "\n",
            "第 4 折交叉验证开始...\n",
            "第4次accuracy_score为： 0.948975\n",
            "混淆矩阵输出:\n",
            " [[7205   83    6   35   61   93   18   12   21   38    0    3    1    1]\n",
            " [  77 7137    0    5   62    6    2  108    4    1    5    1    1    0]\n",
            " [   3    1 6334   29   11   12    2    0    2    1    0    0    2    0]\n",
            " [  35    5   20 4383   13   30    2    2    9    2    0    8    0    1]\n",
            " [  60   55   12   19 2727   63   20    8    5    2    2    7    1    0]\n",
            " [  70    7    2   26   65 2182   28   11    6    0    3    3    8    0]\n",
            " [  18    5    2    5   28   36 1860    0    4    1    0    3    0    1]\n",
            " [  19  183    2    6   11   19    3 1542    3    0    3    0    1    0]\n",
            " [  26   13    7   24    4   11    4    1 1475    2    2   12    0    2]\n",
            " [ 103    2    2    5    2    2    0    0    1 1065    0    2    0    1]\n",
            " [   1   12    1    0    1    5    1    0    7    1  935    1    0    0]\n",
            " [   5    0    1   28    5    7    3    2   14    1    0  581    0    4]\n",
            " [   2    0   19    1    0    4    0    0    0    0    0    0  342    0]\n",
            " [   0    0    1    1    0    1    3    0    6    1    0    4    0  191]]\n",
            "分类报告:\n",
            "               precision    recall  f1-score   support\n",
            "\n",
            "           0       0.95      0.95      0.95      7577\n",
            "           1       0.95      0.96      0.96      7409\n",
            "           2       0.99      0.99      0.99      6397\n",
            "           3       0.96      0.97      0.97      4510\n",
            "           4       0.91      0.91      0.91      2981\n",
            "           5       0.88      0.91      0.89      2411\n",
            "           6       0.96      0.95      0.95      1963\n",
            "           7       0.91      0.86      0.89      1792\n",
            "           8       0.95      0.93      0.94      1583\n",
            "           9       0.96      0.90      0.93      1185\n",
            "          10       0.98      0.97      0.98       965\n",
            "          11       0.93      0.89      0.91       651\n",
            "          12       0.96      0.93      0.94       368\n",
            "          13       0.95      0.92      0.93       208\n",
            "\n",
            "    accuracy                           0.95     40000\n",
            "   macro avg       0.95      0.93      0.94     40000\n",
            "weighted avg       0.95      0.95      0.95     40000\n",
            "\n",
            "第 5 折交叉验证开始...\n",
            "第5次accuracy_score为： 0.947825\n",
            "混淆矩阵输出:\n",
            " [[7335   96    8   34   72   81   15   18   26   52    2    1    1    0]\n",
            " [  87 7003    1    5   75    2    6  116    7    3    3    0    0    0]\n",
            " [   8    3 6228   27   11    4    3    0    4    0    0    1    5    0]\n",
            " [  26    3   22 4320   14   25    8    1   16    4    0   13    0    3]\n",
            " [  56   59   14   15 2800   52   21    6    8    2    3    7    1    0]\n",
            " [  67    6    6   31   63 2222   43   12    6    1    3    3    9    1]\n",
            " [  13    5    6    3   27   32 1893    1   10    2    0    9    1    0]\n",
            " [  19  197    0    5    8   17    4 1488    3    0    1    0    1    1]\n",
            " [  29   11    2   28    5   14    3    2 1475    2    2   15    0    0]\n",
            " [  77    4    4    8    1    3    1    0    0 1101    0    0    0    0]\n",
            " [   0   11    0    0    4    6    1    1    2    0  975    0    0    0]\n",
            " [   6    2    1   14    3    0    1    0    7    1    0  588    0    2]\n",
            " [   1    1   14    1    0    9    0    0    0    0    0    0  350    0]\n",
            " [   3    0    0    4    1    1    1    0    3    0    0    3    0  135]]\n",
            "分类报告:\n",
            "               precision    recall  f1-score   support\n",
            "\n",
            "           0       0.95      0.95      0.95      7741\n",
            "           1       0.95      0.96      0.95      7308\n",
            "           2       0.99      0.99      0.99      6294\n",
            "           3       0.96      0.97      0.97      4455\n",
            "           4       0.91      0.92      0.91      3044\n",
            "           5       0.90      0.90      0.90      2473\n",
            "           6       0.95      0.95      0.95      2002\n",
            "           7       0.90      0.85      0.88      1744\n",
            "           8       0.94      0.93      0.94      1588\n",
            "           9       0.94      0.92      0.93      1199\n",
            "          10       0.99      0.97      0.98      1000\n",
            "          11       0.92      0.94      0.93       625\n",
            "          12       0.95      0.93      0.94       376\n",
            "          13       0.95      0.89      0.92       151\n",
            "\n",
            "    accuracy                           0.95     40000\n",
            "   macro avg       0.94      0.93      0.94     40000\n",
            "weighted avg       0.95      0.95      0.95     40000\n",
            "\n"
          ]
        }
      ],
      "source": [
        "KF = KFold(n_splits=5, random_state=7,shuffle=True)\n",
        "clf = LinearSVC()\n",
        "test_pred = np.zeros((X_test.shape[0], 1), int)  # 存储测试集预测结果 行数：len(X_test) ,列数：1列\n",
        "for KF_index, (train_index,valid_index) in enumerate(KF.split(X_train)):\n",
        "    print('第', KF_index+1, '折交叉验证开始...')\n",
        "    # 训练集划分\n",
        "    x_train_, x_valid_ = X_train[train_index], X_train[valid_index]\n",
        "    y_train_, y_valid_ = y_train[train_index], y_train[valid_index]\n",
        "    # 模型构建\n",
        "    clf.fit(x_train_, y_train_)\n",
        "    # 模型预测\n",
        "    val_pred = clf.predict(x_valid_)#f1_score,accuracy_score,precision_score,recall_score\n",
        "    print(\"第\"+str(KF_index+1)+\"次accuracy_score为：\",accuracy_score(y_valid_, val_pred))   \n",
        "    print('混淆矩阵输出:\\n',confusion_matrix(y_valid_, val_pred))#混淆矩阵输出\n",
        "    print('分类报告:\\n', classification_report(y_valid_, val_pred))\n",
        "    # 保存测试集预测结果\n",
        "    test_pred = np.column_stack((test_pred, clf.predict(X_test)))  # 将矩阵按列合并\n",
        "# 取测试集中预测数量最多的数\n",
        "preds = []\n",
        "for i, test_list in enumerate(test_pred):\n",
        "    preds.append(np.argmax(np.bincount(test_list)))\n",
        "preds = np.array(preds)"
      ]
    },
    {
      "cell_type": "code",
      "execution_count": null,
      "metadata": {
        "id": "6-WqUSFj7Xsw"
      },
      "outputs": [],
      "source": [
        "submission = pd.read_csv('/content/drive/MyDrive/news classification/test_a_sample_submit.csv')\n",
        "submission['label'] = preds\n",
        "submission.to_csv('/content/drive/MyDrive/news classification/LinearSVC_submission2.csv', index=False)"
      ]
    },
    {
      "cell_type": "markdown",
      "metadata": {
        "id": "EYzsq7io7Xsz"
      },
      "source": [
        "https://eli5.readthedocs.io/en/latest/tutorials/black-box-text-classifiers.html"
      ]
    },
    {
      "cell_type": "code",
      "execution_count": null,
      "metadata": {
        "id": "r_GU5GHE7Xs4"
      },
      "outputs": [],
      "source": [
        ""
      ]
    }
  ],
  "metadata": {
    "colab": {
      "name": "TF-IDF_LinearSVC_0.941.ipynb",
      "provenance": [],
      "collapsed_sections": []
    },
    "kernelspec": {
      "display_name": "Python 3",
      "language": "python",
      "name": "python3"
    },
    "language_info": {
      "codemirror_mode": {
        "name": "ipython",
        "version": 3
      },
      "file_extension": ".py",
      "mimetype": "text/x-python",
      "name": "python",
      "nbconvert_exporter": "python",
      "pygments_lexer": "ipython3",
      "version": "3.7.7"
    }
  },
  "nbformat": 4,
  "nbformat_minor": 0
}